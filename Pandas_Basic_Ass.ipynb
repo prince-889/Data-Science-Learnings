{
 "cells": [
  {
   "cell_type": "code",
   "execution_count": 2,
   "metadata": {},
   "outputs": [
    {
     "name": "stdout",
     "output_type": "stream",
     "text": [
      "Collecting pandas\n",
      "  Using cached pandas-2.2.2-cp312-cp312-win_amd64.whl.metadata (19 kB)\n",
      "Collecting numpy>=1.26.0 (from pandas)\n",
      "  Downloading numpy-2.0.0-cp312-cp312-win_amd64.whl.metadata (60 kB)\n",
      "     ---------------------------------------- 0.0/60.9 kB ? eta -:--:--\n",
      "     ------ --------------------------------- 10.2/60.9 kB ? eta -:--:--\n",
      "     ------------------- ------------------ 30.7/60.9 kB 325.1 kB/s eta 0:00:01\n",
      "     ------------------------------- ------ 51.2/60.9 kB 372.4 kB/s eta 0:00:01\n",
      "     -------------------------------------- 60.9/60.9 kB 405.3 kB/s eta 0:00:00\n",
      "Requirement already satisfied: python-dateutil>=2.8.2 in c:\\users\\princ\\anaconda3\\envs\\pandas\\lib\\site-packages (from pandas) (2.9.0)\n",
      "Collecting pytz>=2020.1 (from pandas)\n",
      "  Using cached pytz-2024.1-py2.py3-none-any.whl.metadata (22 kB)\n",
      "Collecting tzdata>=2022.7 (from pandas)\n",
      "  Using cached tzdata-2024.1-py2.py3-none-any.whl.metadata (1.4 kB)\n",
      "Requirement already satisfied: six>=1.5 in c:\\users\\princ\\anaconda3\\envs\\pandas\\lib\\site-packages (from python-dateutil>=2.8.2->pandas) (1.16.0)\n",
      "Using cached pandas-2.2.2-cp312-cp312-win_amd64.whl (11.5 MB)\n",
      "Downloading numpy-2.0.0-cp312-cp312-win_amd64.whl (16.2 MB)\n",
      "   ---------------------------------------- 0.0/16.2 MB ? eta -:--:--\n",
      "   - -------------------------------------- 0.6/16.2 MB 13.5 MB/s eta 0:00:02\n",
      "   ---- ----------------------------------- 1.8/16.2 MB 19.0 MB/s eta 0:00:01\n",
      "   ------- -------------------------------- 2.9/16.2 MB 20.5 MB/s eta 0:00:01\n",
      "   ---------- ----------------------------- 4.1/16.2 MB 21.5 MB/s eta 0:00:01\n",
      "   ------------ --------------------------- 5.2/16.2 MB 22.2 MB/s eta 0:00:01\n",
      "   -------------- ------------------------- 5.8/16.2 MB 20.5 MB/s eta 0:00:01\n",
      "   --------------- ------------------------ 6.1/16.2 MB 18.7 MB/s eta 0:00:01\n",
      "   --------------- ------------------------ 6.5/16.2 MB 17.2 MB/s eta 0:00:01\n",
      "   ---------------- ----------------------- 6.8/16.2 MB 16.1 MB/s eta 0:00:01\n",
      "   ----------------- ---------------------- 7.3/16.2 MB 15.5 MB/s eta 0:00:01\n",
      "   ------------------- -------------------- 7.7/16.2 MB 15.0 MB/s eta 0:00:01\n",
      "   -------------------- ------------------- 8.3/16.2 MB 14.8 MB/s eta 0:00:01\n",
      "   ---------------------- ----------------- 8.9/16.2 MB 14.6 MB/s eta 0:00:01\n",
      "   ----------------------- ---------------- 9.5/16.2 MB 14.2 MB/s eta 0:00:01\n",
      "   ------------------------ --------------- 10.1/16.2 MB 14.3 MB/s eta 0:00:01\n",
      "   -------------------------- ------------- 10.8/16.2 MB 14.6 MB/s eta 0:00:01\n",
      "   ---------------------------- ----------- 11.5/16.2 MB 14.2 MB/s eta 0:00:01\n",
      "   ------------------------------ --------- 12.3/16.2 MB 13.9 MB/s eta 0:00:01\n",
      "   -------------------------------- ------- 13.1/16.2 MB 13.6 MB/s eta 0:00:01\n",
      "   ---------------------------------- ----- 14.0/16.2 MB 13.1 MB/s eta 0:00:01\n",
      "   ------------------------------------ --- 14.9/16.2 MB 13.1 MB/s eta 0:00:01\n",
      "   -------------------------------------- - 15.7/16.2 MB 13.1 MB/s eta 0:00:01\n",
      "   ---------------------------------------  16.2/16.2 MB 13.6 MB/s eta 0:00:01\n",
      "   ---------------------------------------- 16.2/16.2 MB 12.6 MB/s eta 0:00:00\n",
      "Using cached pytz-2024.1-py2.py3-none-any.whl (505 kB)\n",
      "Using cached tzdata-2024.1-py2.py3-none-any.whl (345 kB)\n",
      "Installing collected packages: pytz, tzdata, numpy, pandas\n",
      "Successfully installed numpy-2.0.0 pandas-2.2.2 pytz-2024.1 tzdata-2024.1\n"
     ]
    }
   ],
   "source": [
    "!pip install pandas\n",
    "import pandas as pd"
   ]
  },
  {
   "cell_type": "code",
   "execution_count": 4,
   "metadata": {},
   "outputs": [
    {
     "name": "stdout",
     "output_type": "stream",
     "text": [
      "0     4\n",
      "1     8\n",
      "2    15\n",
      "3    16\n",
      "4    23\n",
      "5    43\n",
      "dtype: int64\n"
     ]
    }
   ],
   "source": [
    "ser1 = pd.Series([4,8,15,16,23,43])\n",
    "print(ser1)\n"
   ]
  },
  {
   "cell_type": "code",
   "execution_count": 12,
   "metadata": {},
   "outputs": [],
   "source": [
    "var1 = list([1,2,3,6.8,5.4,3,4,5,0,2])"
   ]
  },
  {
   "cell_type": "code",
   "execution_count": 13,
   "metadata": {},
   "outputs": [
    {
     "name": "stdout",
     "output_type": "stream",
     "text": [
      "0    1.0\n",
      "1    2.0\n",
      "2    3.0\n",
      "3    6.8\n",
      "4    5.4\n",
      "5    3.0\n",
      "6    4.0\n",
      "7    5.0\n",
      "8    0.0\n",
      "9    2.0\n",
      "dtype: float64\n"
     ]
    }
   ],
   "source": [
    "print(pd.Series(var1))"
   ]
  },
  {
   "cell_type": "code",
   "execution_count": 10,
   "metadata": {},
   "outputs": [],
   "source": [
    "df = pd.DataFrame(\n",
    "{\n",
    "'Name':['Alice','Bob','Clarie'],\n",
    "'Age':[25,30,27],\n",
    "'Gender':['Female','Male','Female']\n",
    "}\n",
    ")"
   ]
  },
  {
   "cell_type": "code",
   "execution_count": 11,
   "metadata": {},
   "outputs": [
    {
     "name": "stdout",
     "output_type": "stream",
     "text": [
      "     Name  Age  Gender\n",
      "0   Alice   25  Female\n",
      "1     Bob   30    Male\n",
      "2  Clarie   27  Female\n"
     ]
    }
   ],
   "source": [
    "print(df)"
   ]
  },
  {
   "cell_type": "markdown",
   "metadata": {},
   "source": [
    "Ans 4. A DataFrame is a two-dimensional table that can hold multiple columns of data, making it great for handling structured data like numbers, text, and dates. It has rows and columns.\n",
    "\n",
    "One main difference between a DataFrame and a Series is that a DataFrame can have multiple columns, while a Series can only have one. This means a DataFrame can store more complex and varied data, while a Series holds simpler, uniform data.\n"
   ]
  },
  {
   "cell_type": "code",
   "execution_count": 14,
   "metadata": {},
   "outputs": [
    {
     "name": "stdout",
     "output_type": "stream",
     "text": [
      "0    10\n",
      "1    20\n",
      "2    30\n",
      "3    40\n",
      "4    50\n",
      "dtype: int64\n"
     ]
    }
   ],
   "source": [
    "# A Series is a one-dimensional array that can hold data of only one type (e.g., integers, floats, strings).\n",
    "\n",
    "# Creating a Series\n",
    "series_example = pd.Series([10, 20, 30, 40, 50])\n",
    "\n",
    "print(series_example)\n"
   ]
  },
  {
   "cell_type": "code",
   "execution_count": 15,
   "metadata": {},
   "outputs": [
    {
     "name": "stdout",
     "output_type": "stream",
     "text": [
      "      Name  Age         City\n",
      "0    Alice   24     New York\n",
      "1      Bob   27  Los Angeles\n",
      "2  Charlie   22      Chicago\n",
      "3    David   32      Houston\n"
     ]
    }
   ],
   "source": [
    "\"\"\" A DataFrame is a two-dimensional table with multiple columns,\n",
    "each of which can hold different types of data (e.g., integers, floats, strings). \"\"\" \n",
    "\n",
    "# Creating a DataFrame\n",
    "dataframe_example = pd.DataFrame({\n",
    "    'Name': ['Alice', 'Bob', 'Charlie', 'David'],\n",
    "    'Age': [24, 27, 22, 32],\n",
    "    'City': ['New York', 'Los Angeles', 'Chicago', 'Houston']\n",
    "})\n",
    "\n",
    "print(dataframe_example)\n"
   ]
  },
  {
   "cell_type": "markdown",
   "metadata": {},
   "source": [
    "1.head() and tail(): View the first or last few rows of the DataFrame.\n",
    "\n",
    "2.info(): Get a concise summary of the DataFrame.\n",
    "\n",
    "3.describe(): Generate descriptive statistics.\n",
    "\n",
    "4.drop(): Remove rows or columns.\n",
    "\n",
    "5.loc and iloc: Access a group of rows and columns by labels or positions.\n",
    "\n",
    "6.groupby(): Group the DataFrame using a mapper or by a Series of columns.\n",
    "\n",
    "7.merge(): Merge DataFrame objects by performing a database-style join.\n",
    "\n",
    "8.concat(): Concatenate pandas objects along a particular axis.\n",
    "\n",
    "9.pivot_table(): Create a spreadsheet-style pivot table as a DataFrame.\n",
    "\n",
    "10.apply(): Apply a function along an axis of the DataFrame."
   ]
  },
  {
   "cell_type": "code",
   "execution_count": 17,
   "metadata": {},
   "outputs": [
    {
     "data": {
      "text/plain": [
       "count     3.000000\n",
       "mean     27.333333\n",
       "std       2.516611\n",
       "min      25.000000\n",
       "25%      26.000000\n",
       "50%      27.000000\n",
       "75%      28.500000\n",
       "max      30.000000\n",
       "Name: Age, dtype: float64"
      ]
     },
     "execution_count": 17,
     "metadata": {},
     "output_type": "execute_result"
    }
   ],
   "source": [
    "df['Age'].describe()"
   ]
  },
  {
   "cell_type": "markdown",
   "metadata": {},
   "source": [
    "DataFrame is mutable in nature."
   ]
  },
  {
   "cell_type": "code",
   "execution_count": 21,
   "metadata": {},
   "outputs": [],
   "source": [
    "names = pd.Series(['Alice', 'Bob', 'Charlie', 'David', 'Eve'], name = 'Name')\n",
    "ages = pd.Series([25, 30, 35, 40, 45], name = 'Age')\n",
    "heights = pd.Series([160,170,165,175,180], name = 'Height')"
   ]
  },
  {
   "cell_type": "code",
   "execution_count": 22,
   "metadata": {},
   "outputs": [],
   "source": [
    "df1 = pd.DataFrame({'Name':names, 'Age': ages, 'Height': heights})"
   ]
  },
  {
   "cell_type": "code",
   "execution_count": 23,
   "metadata": {},
   "outputs": [
    {
     "data": {
      "text/html": [
       "<div>\n",
       "<style scoped>\n",
       "    .dataframe tbody tr th:only-of-type {\n",
       "        vertical-align: middle;\n",
       "    }\n",
       "\n",
       "    .dataframe tbody tr th {\n",
       "        vertical-align: top;\n",
       "    }\n",
       "\n",
       "    .dataframe thead th {\n",
       "        text-align: right;\n",
       "    }\n",
       "</style>\n",
       "<table border=\"1\" class=\"dataframe\">\n",
       "  <thead>\n",
       "    <tr style=\"text-align: right;\">\n",
       "      <th></th>\n",
       "      <th>Name</th>\n",
       "      <th>Age</th>\n",
       "      <th>Height</th>\n",
       "    </tr>\n",
       "  </thead>\n",
       "  <tbody>\n",
       "    <tr>\n",
       "      <th>0</th>\n",
       "      <td>Alice</td>\n",
       "      <td>25</td>\n",
       "      <td>160</td>\n",
       "    </tr>\n",
       "    <tr>\n",
       "      <th>1</th>\n",
       "      <td>Bob</td>\n",
       "      <td>30</td>\n",
       "      <td>170</td>\n",
       "    </tr>\n",
       "    <tr>\n",
       "      <th>2</th>\n",
       "      <td>Charlie</td>\n",
       "      <td>35</td>\n",
       "      <td>165</td>\n",
       "    </tr>\n",
       "    <tr>\n",
       "      <th>3</th>\n",
       "      <td>David</td>\n",
       "      <td>40</td>\n",
       "      <td>175</td>\n",
       "    </tr>\n",
       "    <tr>\n",
       "      <th>4</th>\n",
       "      <td>Eve</td>\n",
       "      <td>45</td>\n",
       "      <td>180</td>\n",
       "    </tr>\n",
       "  </tbody>\n",
       "</table>\n",
       "</div>"
      ],
      "text/plain": [
       "      Name  Age  Height\n",
       "0    Alice   25     160\n",
       "1      Bob   30     170\n",
       "2  Charlie   35     165\n",
       "3    David   40     175\n",
       "4      Eve   45     180"
      ]
     },
     "execution_count": 23,
     "metadata": {},
     "output_type": "execute_result"
    }
   ],
   "source": [
    "df1"
   ]
  },
  {
   "cell_type": "code",
   "execution_count": null,
   "metadata": {},
   "outputs": [],
   "source": []
  },
  {
   "cell_type": "code",
   "execution_count": null,
   "metadata": {},
   "outputs": [],
   "source": []
  },
  {
   "cell_type": "code",
   "execution_count": null,
   "metadata": {},
   "outputs": [],
   "source": []
  },
  {
   "cell_type": "markdown",
   "metadata": {},
   "source": []
  }
 ],
 "metadata": {
  "kernelspec": {
   "display_name": "pandas",
   "language": "python",
   "name": "python3"
  },
  "language_info": {
   "codemirror_mode": {
    "name": "ipython",
    "version": 3
   },
   "file_extension": ".py",
   "mimetype": "text/x-python",
   "name": "python",
   "nbconvert_exporter": "python",
   "pygments_lexer": "ipython3",
   "version": "3.12.0"
  }
 },
 "nbformat": 4,
 "nbformat_minor": 2
}

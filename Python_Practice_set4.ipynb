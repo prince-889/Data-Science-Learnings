{
 "cells": [
  {
   "cell_type": "code",
   "execution_count": null,
   "metadata": {},
   "outputs": [],
   "source": []
  },
  {
   "cell_type": "markdown",
   "metadata": {},
   "source": [
    "Ans1."
   ]
  },
  {
   "cell_type": "code",
   "execution_count": 3,
   "metadata": {},
   "outputs": [
    {
     "name": "stdout",
     "output_type": "stream",
     "text": [
      "Prince 24 M\n"
     ]
    }
   ],
   "source": [
    "class Person:\n",
    "    def __init__(self,name,age,gender):\n",
    "        self.name = name\n",
    "        self.age = age\n",
    "        self.gender = gender\n",
    "\n",
    "P1 = Person(\"Prince\",24,\"M\")\n",
    "print(P1.name,P1.age,P1.gender)"
   ]
  },
  {
   "cell_type": "code",
   "execution_count": null,
   "metadata": {},
   "outputs": [],
   "source": []
  },
  {
   "cell_type": "markdown",
   "metadata": {},
   "source": [
    "Ans2."
   ]
  },
  {
   "cell_type": "code",
   "execution_count": 11,
   "metadata": {},
   "outputs": [],
   "source": [
    "class Rectangle:\n",
    "    def __init__(self,width,height):\n",
    "        self.width = width\n",
    "        self.height = height\n",
    "\n",
    "    def Area(self):\n",
    "        print(f\"The area of Rectangle is {self.width*self.height} sq units\")\n",
    "\n",
    "    def Perimeter(self):\n",
    "        print(f\"The Perimeter of Rectangle is {2*(self.height + self.width)} units\")"
   ]
  },
  {
   "cell_type": "code",
   "execution_count": 12,
   "metadata": {},
   "outputs": [
    {
     "name": "stdout",
     "output_type": "stream",
     "text": [
      "The area of Rectangle is 100 sq units\n"
     ]
    }
   ],
   "source": [
    "area = Rectangle(10,10)\n",
    "area.Area()\n"
   ]
  },
  {
   "cell_type": "code",
   "execution_count": 13,
   "metadata": {},
   "outputs": [
    {
     "name": "stdout",
     "output_type": "stream",
     "text": [
      "The Perimeter of Rectangle is 40 units\n"
     ]
    }
   ],
   "source": [
    "area.Perimeter()"
   ]
  },
  {
   "cell_type": "markdown",
   "metadata": {},
   "source": [
    "Ans3."
   ]
  },
  {
   "cell_type": "code",
   "execution_count": 15,
   "metadata": {},
   "outputs": [],
   "source": [
    "class BankAccount:\n",
    "    def __init__(self,balance,interest_rate):\n",
    "        self.balance = balance\n",
    "        self.interest_rate = interest_rate\n",
    "    \n",
    "    def deposit(self,amount):\n",
    "        self.balance+=amount\n",
    "        return self.balance\n",
    "    \n",
    "    def withdraw(self,amount):\n",
    "        if amount<=self.balance:\n",
    "            self.balance-=amount\n",
    "            return self.balance\n",
    "        else:\n",
    "            return \"Insufficient funds\"\n",
    "\n",
    "    def interest_earned(self):\n",
    "        interest = self.balance*self.interest_rate\n",
    "        return interest\n",
    "\n",
    "\n"
   ]
  },
  {
   "cell_type": "code",
   "execution_count": 16,
   "metadata": {},
   "outputs": [
    {
     "name": "stdout",
     "output_type": "stream",
     "text": [
      "Initial balance: 1000\n"
     ]
    }
   ],
   "source": [
    "account = BankAccount(1000,0.05)\n",
    "print(\"Initial balance:\",account.balance)"
   ]
  },
  {
   "cell_type": "code",
   "execution_count": 17,
   "metadata": {},
   "outputs": [
    {
     "name": "stdout",
     "output_type": "stream",
     "text": [
      "Balance after deposit: 1500\n"
     ]
    }
   ],
   "source": [
    "account.deposit(500)\n",
    "print(\"Balance after deposit:\",account.balance)"
   ]
  },
  {
   "cell_type": "code",
   "execution_count": 18,
   "metadata": {},
   "outputs": [
    {
     "name": "stdout",
     "output_type": "stream",
     "text": [
      "Balance after withdrawal: 1300\n"
     ]
    }
   ],
   "source": [
    "account.withdraw(200)\n",
    "print(\"Balance after withdrawal:\",account.balance)"
   ]
  },
  {
   "cell_type": "code",
   "execution_count": 19,
   "metadata": {},
   "outputs": [
    {
     "name": "stdout",
     "output_type": "stream",
     "text": [
      "Interest earned: 65.0\n"
     ]
    }
   ],
   "source": [
    "interest = account.interest_earned()\n",
    "print(\"Interest earned:\", interest)"
   ]
  },
  {
   "cell_type": "code",
   "execution_count": null,
   "metadata": {},
   "outputs": [],
   "source": []
  },
  {
   "cell_type": "markdown",
   "metadata": {},
   "source": [
    "Ans4."
   ]
  },
  {
   "cell_type": "code",
   "execution_count": 21,
   "metadata": {},
   "outputs": [],
   "source": [
    "class Animal:\n",
    "    def __init__(self,name,species):\n",
    "        self.name = name\n",
    "        self.species = species\n",
    "    \n",
    "    def name_species(self):\n",
    "        print(f\"{self.name} species is {self.species}\") \n",
    "\n",
    "class Dog(Animal):\n",
    "    def __init__(self,name,species,breed,owner):\n",
    "        super().__init__(name,species)\n",
    "        self.breed = breed\n",
    "        self.owner = owner\n",
    "\n",
    "    def info(self):\n",
    "        print(f\"{self.owner}'s {self.species} named {self.name} is {self.breed} \")\n"
   ]
  },
  {
   "cell_type": "code",
   "execution_count": 22,
   "metadata": {},
   "outputs": [
    {
     "name": "stdout",
     "output_type": "stream",
     "text": [
      "Prince's dog named Boozo is Golden Retriever \n",
      "Boozo species is dog\n"
     ]
    }
   ],
   "source": [
    "dog = Dog(name = \"Boozo\",species = \"dog\",breed=\"Golden Retriever\",owner=\"Prince\")\n",
    "dog.info()\n",
    "dog.name_species()"
   ]
  },
  {
   "cell_type": "code",
   "execution_count": null,
   "metadata": {},
   "outputs": [],
   "source": []
  },
  {
   "cell_type": "markdown",
   "metadata": {},
   "source": [
    "Ans5."
   ]
  },
  {
   "cell_type": "code",
   "execution_count": 23,
   "metadata": {},
   "outputs": [],
   "source": [
    "class Car:\n",
    "    def __init__(self,make,model,year):\n",
    "        self.make = make\n",
    "        self.model = model\n",
    "        self.year = year\n",
    "\n",
    "    def display_info(self):\n",
    "        print(f\"Car:{self.year} {self.make} {self.model}\")\n",
    "\n",
    "class ElectricCar(Car):\n",
    "    def __init__(self,make,model,year,battery_size,range):\n",
    "        super().__init__(make,model,year)\n",
    "        self.battery_size = battery_size\n",
    "        self.range = range\n",
    "    \n",
    "    def Full_info(self):\n",
    "        super().display_info()\n",
    "        print(f\"Battery size: {self.battery_size} kwh\")\n",
    "        print(f\"Range: {self.range} miles\")\n",
    "\n",
    "\n",
    "    "
   ]
  },
  {
   "cell_type": "code",
   "execution_count": 24,
   "metadata": {},
   "outputs": [
    {
     "name": "stdout",
     "output_type": "stream",
     "text": [
      "Car:2024 Toyota Camry\n"
     ]
    }
   ],
   "source": [
    "car = Car(\"Toyota\",\"Camry\",\"2024\")\n",
    "car.display_info()"
   ]
  },
  {
   "cell_type": "code",
   "execution_count": 25,
   "metadata": {},
   "outputs": [
    {
     "name": "stdout",
     "output_type": "stream",
     "text": [
      "Car:2023 Tesla Model S\n",
      "Battery size: 100 kwh\n",
      "Range: 370 miles\n"
     ]
    }
   ],
   "source": [
    "electric_car =   ElectricCar(\"Tesla\",\"Model S\",\"2023\",100,370)\n",
    "electric_car.Full_info()"
   ]
  },
  {
   "cell_type": "code",
   "execution_count": null,
   "metadata": {},
   "outputs": [],
   "source": []
  },
  {
   "cell_type": "markdown",
   "metadata": {},
   "source": [
    "Ans6."
   ]
  },
  {
   "cell_type": "code",
   "execution_count": 31,
   "metadata": {},
   "outputs": [],
   "source": [
    "class Student():\n",
    "    def __init__(self,name,id):\n",
    "        self.name=name\n",
    "        self.id = id\n",
    "    def info(self):\n",
    "        print(f\"Name: {self.name}\\nid: {self.id}\")\n",
    "    \n",
    "class GraduateStudent(Student):\n",
    "    def __init__(self,name,id,advisor,research_area):\n",
    "        super().__init__(name,id)\n",
    "        self.advisor = advisor\n",
    "        self.research_area = research_area\n",
    "\n",
    "    def Full_info(self):\n",
    "        self.info()\n",
    "        print(f\"Advisor: {self.advisor}\\nresearch_area: {self.research_area}\")"
   ]
  },
  {
   "cell_type": "code",
   "execution_count": 32,
   "metadata": {},
   "outputs": [
    {
     "name": "stdout",
     "output_type": "stream",
     "text": [
      "Name: John Doe\n",
      "id: 12345\n"
     ]
    }
   ],
   "source": [
    "student = Student(\"John Doe\", \"12345\")\n",
    "student.info()"
   ]
  },
  {
   "cell_type": "code",
   "execution_count": 33,
   "metadata": {},
   "outputs": [
    {
     "name": "stdout",
     "output_type": "stream",
     "text": [
      "Name: Jane Smith\n",
      "id: 67890\n",
      "Advisor: Dr. Brown\n",
      "research_area: Machine Learning\n"
     ]
    }
   ],
   "source": [
    "grad_student = GraduateStudent(\"Jane Smith\", \"67890\", \"Dr. Brown\", \"Machine Learning\")\n",
    "grad_student.Full_info()"
   ]
  },
  {
   "cell_type": "code",
   "execution_count": null,
   "metadata": {},
   "outputs": [],
   "source": []
  },
  {
   "cell_type": "markdown",
   "metadata": {},
   "source": [
    "Ans7."
   ]
  },
  {
   "cell_type": "code",
   "execution_count": 35,
   "metadata": {},
   "outputs": [],
   "source": [
    "import math\n",
    "class Shape:\n",
    "    def area(self):\n",
    "        pass\n",
    "    def perimeter(self):\n",
    "        pass\n",
    "class Rectangle(Shape):\n",
    "    def __init__(self,height,width):\n",
    "        self.height = height\n",
    "        self.width = width\n",
    "    def area(self):\n",
    "        return self.width*self.height\n",
    "\n",
    "    def perimeter(self):\n",
    "        return 2*(self.width +self.height)\n",
    "\n",
    "class Circle(Shape):\n",
    "    def __init__(self,radius):\n",
    "        self.radius = radius\n",
    "\n",
    "    def area(self):\n",
    "        return math.pi*self.radius **2\n",
    "\n",
    "    def perimeter(self):\n",
    "        return 2*math.pi*self.radius\n",
    "\n",
    "class Triangle(Shape):\n",
    "    def __init__(self,side1,side2,side3):\n",
    "        self.side1 = side1\n",
    "        self.side2 = side2\n",
    "        self.side3 = side3\n",
    "\n",
    "    def area(self):\n",
    "        s = (self.side1 + self.side2 + self.side3) / 2\n",
    "        return math.sqrt(s * (s - self.side1) * (s - self.side2) * (s - self.side3))\n",
    "\n",
    "    def perimeter(self):\n",
    "        return self.side1 + self.side2 + self.side3"
   ]
  },
  {
   "cell_type": "code",
   "execution_count": 36,
   "metadata": {},
   "outputs": [
    {
     "name": "stdout",
     "output_type": "stream",
     "text": [
      "Rectangle - Area: 50, Perimeter: 30\n",
      "Circle - Area: 153.94, Perimeter: 43.98\n",
      "Triangle - Area: 6.00, Perimeter: 12\n"
     ]
    }
   ],
   "source": [
    "rect = Rectangle(5, 10)\n",
    "print(f\"Rectangle - Area: {rect.area()}, Perimeter: {rect.perimeter()}\")\n",
    "\n",
    "circle = Circle(7)\n",
    "print(f\"Circle - Area: {circle.area():.2f}, Perimeter: {circle.perimeter():.2f}\")\n",
    "\n",
    "triangle = Triangle(3, 4, 5)\n",
    "print(f\"Triangle - Area: {triangle.area():.2f}, Perimeter: {triangle.perimeter()}\")"
   ]
  },
  {
   "cell_type": "code",
   "execution_count": null,
   "metadata": {},
   "outputs": [],
   "source": []
  },
  {
   "cell_type": "markdown",
   "metadata": {},
   "source": [
    "Ans8."
   ]
  },
  {
   "cell_type": "code",
   "execution_count": 43,
   "metadata": {},
   "outputs": [],
   "source": [
    "class Employee:\n",
    "    def __init__(self,name,id,salary):\n",
    "        self.name= name\n",
    "        self.id = id\n",
    "        self.salary = salary\n",
    "        self.Updated_Salary = salary\n",
    "\n",
    "    def Monthly_Sal_With_Raise(self,raise_percentage):\n",
    "        self.Updated_Salary = self.salary + (self.salary*raise_percentage)\n",
    "        return self.Updated_Salary\n",
    "    \n",
    "    def annual_salary(self):\n",
    "        return 12*self.Updated_Salary"
   ]
  },
  {
   "cell_type": "code",
   "execution_count": 44,
   "metadata": {},
   "outputs": [
    {
     "name": "stdout",
     "output_type": "stream",
     "text": [
      "Monthly Salary with Raise: 5500.0\n",
      "Annual Salary: 66000.0\n"
     ]
    }
   ],
   "source": [
    "emp = Employee(\"Alice\", \"E123\", 5000)\n",
    "print(f\"Monthly Salary with Raise: {emp.Monthly_Sal_With_Raise(0.10)}\")\n",
    "print(f\"Annual Salary: {emp.annual_salary()}\")"
   ]
  },
  {
   "cell_type": "markdown",
   "metadata": {},
   "source": [
    "Ans9."
   ]
  },
  {
   "cell_type": "code",
   "execution_count": 48,
   "metadata": {},
   "outputs": [],
   "source": [
    "class Book:\n",
    "    def __init__(self,title,author,publisher):\n",
    "        self.title= title\n",
    "        self.author = author\n",
    "        self.publisher = publisher\n",
    "\n",
    "    def display_info(self):\n",
    "        print(f\"Title: {self.title} Author: {self.author} Publisher: {self.publisher}\")\n",
    "\n",
    "class Ebook(Book):\n",
    "    def __init__(self,title,author,publisher,file_format,file_size):\n",
    "        super().__init__(title,author,publisher)\n",
    "        self.file_format = file_format\n",
    "        self.file_size = file_size\n",
    "\n",
    "    def full_info(self):\n",
    "        self.display_info()\n",
    "        print(f\"File_format: {self.file_format} File_size: {self.file_size}\")\n",
    "\n",
    "\n"
   ]
  },
  {
   "cell_type": "code",
   "execution_count": 49,
   "metadata": {},
   "outputs": [
    {
     "name": "stdout",
     "output_type": "stream",
     "text": [
      "Book Info:\n",
      "Title: The Great Gatsby Author: F. Scott Fitzgerald Publisher: Scribner\n",
      "\n",
      "Ebook Info:\n",
      "Title: The Great Gatsby Author: F. Scott Fitzgerald Publisher: Scribner\n",
      "File_format: PDF File_size: 2MB\n"
     ]
    }
   ],
   "source": [
    "book = Book(\"The Great Gatsby\", \"F. Scott Fitzgerald\", \"Scribner\")\n",
    "ebook = Ebook(\"The Great Gatsby\", \"F. Scott Fitzgerald\", \"Scribner\", \"PDF\", \"2MB\")\n",
    "\n",
    "print(\"Book Info:\")\n",
    "book.display_info()\n",
    "\n",
    "print(\"\\nEbook Info:\")\n",
    "ebook.full_info()"
   ]
  },
  {
   "cell_type": "code",
   "execution_count": null,
   "metadata": {},
   "outputs": [],
   "source": []
  },
  {
   "cell_type": "markdown",
   "metadata": {},
   "source": [
    "Ans10."
   ]
  },
  {
   "cell_type": "code",
   "execution_count": 50,
   "metadata": {},
   "outputs": [],
   "source": [
    "class Bank:\n",
    "    def __init__(self, name):\n",
    "        self.name = name\n",
    "        self.accounts = {}\n",
    "\n",
    "    def create_account(self, account_number, initial_balance=0):\n",
    "        if account_number in self.accounts:\n",
    "            print(f\"Account {account_number} already exists.\")\n",
    "        else:\n",
    "            self.accounts[account_number] = initial_balance\n",
    "            print(f\"Account {account_number} created with balance {initial_balance}.\")\n",
    "\n",
    "    def deposit(self, account_number, amount):\n",
    "        if account_number in self.accounts:\n",
    "            self.accounts[account_number] += amount\n",
    "            print(f\"Deposited {amount} to account {account_number}. New balance is {self.accounts[account_number]}.\")\n",
    "        else:\n",
    "            print(f\"Account {account_number} does not exist.\")\n",
    "\n",
    "    def withdraw(self, account_number, amount):\n",
    "        if account_number in self.accounts:\n",
    "            if self.accounts[account_number] >= amount:\n",
    "                self.accounts[account_number] -= amount\n",
    "                print(f\"Withdrew {amount} from account {account_number}. New balance is {self.accounts[account_number]}.\")\n",
    "            else:\n",
    "                print(f\"Insufficient funds in account {account_number}.\")\n",
    "        else:\n",
    "            print(f\"Account {account_number} does not exist.\")\n",
    "\n",
    "    def total_balance(self):\n",
    "        total = sum(self.accounts.values())\n",
    "        print(f\"Total balance across all accounts is {total}.\")\n",
    "        return total\n",
    "\n",
    "\n"
   ]
  },
  {
   "cell_type": "code",
   "execution_count": 51,
   "metadata": {},
   "outputs": [
    {
     "name": "stdout",
     "output_type": "stream",
     "text": [
      "Account 12345 created with balance 1000.\n",
      "Account 67890 created with balance 500.\n",
      "Deposited 200 to account 12345. New balance is 1200.\n",
      "Deposited 300 to account 67890. New balance is 800.\n",
      "Withdrew 150 from account 12345. New balance is 1050.\n",
      "Withdrew 100 from account 67890. New balance is 700.\n",
      "Total balance across all accounts is 1750.\n"
     ]
    },
    {
     "data": {
      "text/plain": [
       "1750"
      ]
     },
     "execution_count": 51,
     "metadata": {},
     "output_type": "execute_result"
    }
   ],
   "source": [
    "\n",
    "bank = Bank(\"MyBank\")\n",
    "\n",
    "bank.create_account(\"12345\", 1000)\n",
    "bank.create_account(\"67890\", 500)\n",
    "\n",
    "\n",
    "bank.deposit(\"12345\", 200)\n",
    "bank.deposit(\"67890\", 300)\n",
    "\n",
    "\n",
    "bank.withdraw(\"12345\", 150)\n",
    "bank.withdraw(\"67890\", 100)\n",
    "\n",
    "bank.total_balance()"
   ]
  },
  {
   "cell_type": "code",
   "execution_count": null,
   "metadata": {},
   "outputs": [],
   "source": []
  }
 ],
 "metadata": {
  "kernelspec": {
   "display_name": "pandas",
   "language": "python",
   "name": "python3"
  },
  "language_info": {
   "codemirror_mode": {
    "name": "ipython",
    "version": 3
   },
   "file_extension": ".py",
   "mimetype": "text/x-python",
   "name": "python",
   "nbconvert_exporter": "python",
   "pygments_lexer": "ipython3",
   "version": "3.12.0"
  }
 },
 "nbformat": 4,
 "nbformat_minor": 2
}

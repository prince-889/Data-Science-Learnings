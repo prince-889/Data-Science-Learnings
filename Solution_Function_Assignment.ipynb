{
 "cells": [
  {
   "cell_type": "markdown",
   "id": "9cc55208",
   "metadata": {},
   "source": [
    "### Q1. Which keyword is used to create a function? Create a function to return a list of odd numbers in the range of 1 to 25."
   ]
  },
  {
   "cell_type": "markdown",
   "id": "bf9ee909",
   "metadata": {},
   "source": [
    "#### Ans.1 To define a function, you use the def keyword followed by the function name, a pair of parentheses (), and a colon :. The function's code block is indented below the function definition."
   ]
  },
  {
   "cell_type": "code",
   "execution_count": 1,
   "id": "3c75e3e6",
   "metadata": {},
   "outputs": [],
   "source": [
    "def Odd_numbers(a):\n",
    "    list1=[]\n",
    "    for i in range(1,26):\n",
    "        if i%2!=0:\n",
    "            list1.append(i)\n",
    "            \n",
    "    return list1"
   ]
  },
  {
   "cell_type": "code",
   "execution_count": 4,
   "id": "ef16f605",
   "metadata": {},
   "outputs": [
    {
     "data": {
      "text/plain": [
       "[1, 3, 5, 7, 9, 11, 13, 15, 17, 19, 21, 23, 25]"
      ]
     },
     "execution_count": 4,
     "metadata": {},
     "output_type": "execute_result"
    }
   ],
   "source": [
    "Odd_numbers(25)"
   ]
  },
  {
   "cell_type": "markdown",
   "id": "c7776b8a",
   "metadata": {},
   "source": [
    "### Q2. Why * args and **kwargs is used in some functions? create a function each for *args and **kwargs to demonstrate their use."
   ]
  },
  {
   "cell_type": "markdown",
   "id": "24b523ff",
   "metadata": {},
   "source": [
    "####  Ans.2   Using *args and **kwargs, you can define functions that are more flexible and can handle different numbers of arguments without explicitly specifying them in the function definition. This is especially useful when you have functions that can work with different data structures or when you want to create higher-order functions that pass arguments to other functions without knowing their specific names or number."
   ]
  },
  {
   "cell_type": "code",
   "execution_count": 5,
   "id": "727a6b06",
   "metadata": {},
   "outputs": [],
   "source": [
    "#Example of *args\n",
    "def Sum(*args):\n",
    "    return args"
   ]
  },
  {
   "cell_type": "code",
   "execution_count": 7,
   "id": "a883aaaa",
   "metadata": {},
   "outputs": [
    {
     "data": {
      "text/plain": [
       "('a', 1, 5.9)"
      ]
     },
     "execution_count": 7,
     "metadata": {},
     "output_type": "execute_result"
    }
   ],
   "source": [
    "Sum('a',1,5.9)"
   ]
  },
  {
   "cell_type": "code",
   "execution_count": 24,
   "id": "e70fd8fd",
   "metadata": {},
   "outputs": [],
   "source": [
    "# Example of **kwargs\n",
    "def dict1(**kwargs):\n",
    "    return kwargs"
   ]
  },
  {
   "cell_type": "code",
   "execution_count": 25,
   "id": "cb3fbc72",
   "metadata": {},
   "outputs": [
    {
     "data": {
      "text/plain": [
       "{'a': 9, 'Course': 'Data Science Masters'}"
      ]
     },
     "execution_count": 25,
     "metadata": {},
     "output_type": "execute_result"
    }
   ],
   "source": [
    "dict1(a= 9,Course= 'Data Science Masters')"
   ]
  },
  {
   "cell_type": "markdown",
   "id": "8dec01b8",
   "metadata": {},
   "source": [
    "### Q3. What is an iterator in python? Name the method used to initialise the iterator object and the method used for iteration. Use these methods to print the first five elements of the given list [2, 4, 6, 8, 10, 12, 14, 16,18, 20]."
   ]
  },
  {
   "cell_type": "markdown",
   "id": "b8e86868",
   "metadata": {},
   "source": [
    "#### Ans3. An iterator in Python is an object that is used to iterate over iterable objects like lists, tuples, dicts, and sets. The Python iterators object is initialized using the iter() method. It uses the next() method for iteration.\n",
    "__iter__(): The iter() method is called for the initialization of an iterator. This returns an iterator object.\n",
    "\n",
    "__next__(): The next method returns the next value for the iterable. \n",
    "\n",
    "When we use a for loop to traverse any iterable object, internally it uses the iter() method to get an iterator object, which further uses the next() method to iterate over. This method raises a StopIteration to signal the end of the iteration. "
   ]
  },
  {
   "cell_type": "code",
   "execution_count": 26,
   "id": "4f7f6a53",
   "metadata": {},
   "outputs": [],
   "source": [
    "lst = [2,4,6,8,10,12,14,16,18,20]"
   ]
  },
  {
   "cell_type": "code",
   "execution_count": 31,
   "id": "f237ce26",
   "metadata": {},
   "outputs": [
    {
     "name": "stdout",
     "output_type": "stream",
     "text": [
      "2\n",
      "4\n",
      "6\n",
      "8\n",
      "10\n"
     ]
    }
   ],
   "source": [
    "my_iterator = iter(lst)\n",
    "print(next(my_iterator))\n",
    "print(next(my_iterator))\n",
    "print(next(my_iterator))\n",
    "print(next(my_iterator))\n",
    "print(next(my_iterator))"
   ]
  },
  {
   "cell_type": "markdown",
   "id": "eecfcef5",
   "metadata": {},
   "source": [
    "### Q4. What is a generator function in python? Why yield keyword is used? Give an example of a generator function"
   ]
  },
  {
   "cell_type": "markdown",
   "id": "fbdd90df",
   "metadata": {},
   "source": [
    "#### Ans.4 A generator function in Python is a special type of function that uses the \"yield\"  keyword instead of the return keyword to produce a sequence of values one at a time. When you call a generator function, it returns a generator object that can be iterated over, and the values are generated or yielded one by one as you iterate through the generator. "
   ]
  },
  {
   "cell_type": "code",
   "execution_count": 52,
   "id": "30e690ba",
   "metadata": {},
   "outputs": [],
   "source": [
    "#fibonacci sequence less than 10\n",
    "def fib_seq(limit):\n",
    "    a,b=0,1\n",
    "    while a<limit:\n",
    "        yield a\n",
    "        a,b= b,a+b"
   ]
  },
  {
   "cell_type": "code",
   "execution_count": 53,
   "id": "b8177395",
   "metadata": {},
   "outputs": [
    {
     "name": "stdout",
     "output_type": "stream",
     "text": [
      "0\n",
      "1\n",
      "1\n",
      "2\n",
      "3\n",
      "5\n",
      "8\n"
     ]
    }
   ],
   "source": [
    "for i in fib_seq(10):\n",
    "    print(i)"
   ]
  },
  {
   "cell_type": "markdown",
   "id": "2306ec39",
   "metadata": {},
   "source": [
    "### Q5. Create a generator function for prime numbers less than 1000. Use the next() method to print the first 20 prime numbers."
   ]
  },
  {
   "cell_type": "code",
   "execution_count": 84,
   "id": "fd393e21",
   "metadata": {},
   "outputs": [],
   "source": [
    "def prime_num(limit):\n",
    "    for num in range(2, limit):\n",
    "        is_prime = True\n",
    "        for divisor in range(2,num):\n",
    "            if num % divisor == 0:\n",
    "                is_prime = False\n",
    "                break\n",
    "        if is_prime:\n",
    "            yield num"
   ]
  },
  {
   "cell_type": "code",
   "execution_count": 86,
   "id": "d0acef58",
   "metadata": {},
   "outputs": [
    {
     "name": "stdout",
     "output_type": "stream",
     "text": [
      "2\n",
      "3\n",
      "5\n",
      "7\n",
      "11\n",
      "13\n",
      "17\n",
      "19\n",
      "23\n",
      "29\n",
      "31\n",
      "37\n",
      "41\n",
      "43\n",
      "47\n",
      "53\n",
      "59\n",
      "61\n",
      "67\n",
      "71\n"
     ]
    }
   ],
   "source": [
    "prime = prime_num(1000)\n",
    "for a in range(20):\n",
    "    print(next(prime))"
   ]
  },
  {
   "cell_type": "code",
   "execution_count": null,
   "id": "3e8f34c3",
   "metadata": {},
   "outputs": [],
   "source": []
  },
  {
   "cell_type": "code",
   "execution_count": null,
   "id": "355735bf",
   "metadata": {},
   "outputs": [],
   "source": []
  }
 ],
 "metadata": {
  "kernelspec": {
   "display_name": "Python 3 (ipykernel)",
   "language": "python",
   "name": "python3"
  },
  "language_info": {
   "codemirror_mode": {
    "name": "ipython",
    "version": 3
   },
   "file_extension": ".py",
   "mimetype": "text/x-python",
   "name": "python",
   "nbconvert_exporter": "python",
   "pygments_lexer": "ipython3",
   "version": "3.9.12"
  }
 },
 "nbformat": 4,
 "nbformat_minor": 5
}

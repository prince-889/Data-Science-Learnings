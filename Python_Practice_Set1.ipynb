{
 "cells": [
  {
   "cell_type": "markdown",
   "metadata": {},
   "source": [
    "Ans1."
   ]
  },
  {
   "cell_type": "code",
   "execution_count": 1,
   "metadata": {},
   "outputs": [],
   "source": [
    "def add_numbers(num1,num2):\n",
    "    result = num1 + num2\n",
    "    return result"
   ]
  },
  {
   "cell_type": "code",
   "execution_count": 4,
   "metadata": {},
   "outputs": [
    {
     "name": "stdout",
     "output_type": "stream",
     "text": [
      "Sum of two number is: 11\n"
     ]
    }
   ],
   "source": [
    "sum_result = add_numbers(5,6)\n",
    "print(\"Sum of two number is:\",sum_result)"
   ]
  },
  {
   "cell_type": "markdown",
   "metadata": {},
   "source": [
    "Ans2."
   ]
  },
  {
   "cell_type": "code",
   "execution_count": 12,
   "metadata": {},
   "outputs": [
    {
     "name": "stdout",
     "output_type": "stream",
     "text": [
      "Collecting mathematical\n",
      "  Downloading mathematical-0.5.1.post1-py3-none-any.whl.metadata (7.3 kB)\n",
      "Collecting domdf-python-tools>=2.7.0 (from mathematical)\n",
      "  Downloading domdf_python_tools-3.8.1-py3-none-any.whl.metadata (8.9 kB)\n",
      "Requirement already satisfied: numpy!=1.19.4,>=1.19.3 in c:\\users\\princ\\anaconda3\\envs\\pandas\\lib\\site-packages (from mathematical) (2.0.0)\n",
      "Requirement already satisfied: pandas>=1.0.1 in c:\\users\\princ\\anaconda3\\envs\\pandas\\lib\\site-packages (from mathematical) (2.2.2)\n",
      "Requirement already satisfied: typing-extensions>=3.7.4.3 in c:\\users\\princ\\anaconda3\\envs\\pandas\\lib\\site-packages (from mathematical) (4.12.2)\n",
      "Collecting natsort>=7.0.1 (from domdf-python-tools>=2.7.0->mathematical)\n",
      "  Downloading natsort-8.4.0-py3-none-any.whl.metadata (21 kB)\n",
      "Requirement already satisfied: python-dateutil>=2.8.2 in c:\\users\\princ\\anaconda3\\envs\\pandas\\lib\\site-packages (from pandas>=1.0.1->mathematical) (2.9.0)\n",
      "Requirement already satisfied: pytz>=2020.1 in c:\\users\\princ\\anaconda3\\envs\\pandas\\lib\\site-packages (from pandas>=1.0.1->mathematical) (2024.1)\n",
      "Requirement already satisfied: tzdata>=2022.7 in c:\\users\\princ\\anaconda3\\envs\\pandas\\lib\\site-packages (from pandas>=1.0.1->mathematical) (2024.1)\n",
      "Requirement already satisfied: six>=1.5 in c:\\users\\princ\\anaconda3\\envs\\pandas\\lib\\site-packages (from python-dateutil>=2.8.2->pandas>=1.0.1->mathematical) (1.16.0)\n",
      "Downloading mathematical-0.5.1.post1-py3-none-any.whl (78 kB)\n",
      "   ---------------------------------------- 0.0/78.7 kB ? eta -:--:--\n",
      "   ------------------------------------ --- 71.7/78.7 kB 1.3 MB/s eta 0:00:01\n",
      "   ---------------------------------------- 78.7/78.7 kB 1.1 MB/s eta 0:00:00\n",
      "Downloading domdf_python_tools-3.8.1-py3-none-any.whl (127 kB)\n",
      "   ---------------------------------------- 0.0/127.1 kB ? eta -:--:--\n",
      "   ---------------------------------------- 127.1/127.1 kB 3.8 MB/s eta 0:00:00\n",
      "Downloading natsort-8.4.0-py3-none-any.whl (38 kB)\n",
      "Installing collected packages: natsort, domdf-python-tools, mathematical\n",
      "Successfully installed domdf-python-tools-3.8.1 mathematical-0.5.1.post1 natsort-8.4.0\n"
     ]
    }
   ],
   "source": [
    "!pip install mathematical\n",
    "import math"
   ]
  },
  {
   "cell_type": "code",
   "execution_count": 14,
   "metadata": {},
   "outputs": [
    {
     "name": "stdout",
     "output_type": "stream",
     "text": [
      "The square root of number is: 25.0\n"
     ]
    }
   ],
   "source": [
    "num = float(input('Enter the number: '))\n",
    "square_root = math.sqrt(num)\n",
    "print(\"The square root of number is:\",square_root)"
   ]
  },
  {
   "cell_type": "code",
   "execution_count": null,
   "metadata": {},
   "outputs": [],
   "source": []
  },
  {
   "cell_type": "markdown",
   "metadata": {},
   "source": [
    "Ans3."
   ]
  },
  {
   "cell_type": "code",
   "execution_count": 28,
   "metadata": {},
   "outputs": [
    {
     "name": "stdout",
     "output_type": "stream",
     "text": [
      "1\n",
      "2\n",
      "3\n",
      "5\n",
      "7\n",
      "11\n",
      "13\n",
      "17\n",
      "19\n",
      "23\n",
      "29\n",
      "31\n",
      "37\n",
      "41\n",
      "43\n",
      "47\n"
     ]
    }
   ],
   "source": [
    "for i in range(0,50):\n",
    "    if i==0:\n",
    "        continue\n",
    "    elif i==1:\n",
    "        print(i)\n",
    "    else:\n",
    "        for j in range(2,i):\n",
    "            if i%j==0:\n",
    "                break\n",
    "        else:\n",
    "            print(i)\n",
    "              \n",
    "\n"
   ]
  },
  {
   "cell_type": "markdown",
   "metadata": {},
   "source": [
    "Ans4."
   ]
  },
  {
   "cell_type": "code",
   "execution_count": 29,
   "metadata": {},
   "outputs": [],
   "source": [
    "a,b,c = 5,8,9"
   ]
  },
  {
   "cell_type": "code",
   "execution_count": 30,
   "metadata": {},
   "outputs": [],
   "source": [
    "a,b,c = c,a,b"
   ]
  },
  {
   "cell_type": "code",
   "execution_count": 31,
   "metadata": {},
   "outputs": [
    {
     "data": {
      "text/plain": [
       "9"
      ]
     },
     "execution_count": 31,
     "metadata": {},
     "output_type": "execute_result"
    }
   ],
   "source": [
    "a"
   ]
  },
  {
   "cell_type": "code",
   "execution_count": 32,
   "metadata": {},
   "outputs": [
    {
     "data": {
      "text/plain": [
       "5"
      ]
     },
     "execution_count": 32,
     "metadata": {},
     "output_type": "execute_result"
    }
   ],
   "source": [
    "b"
   ]
  },
  {
   "cell_type": "code",
   "execution_count": 33,
   "metadata": {},
   "outputs": [
    {
     "data": {
      "text/plain": [
       "8"
      ]
     },
     "execution_count": 33,
     "metadata": {},
     "output_type": "execute_result"
    }
   ],
   "source": [
    "c"
   ]
  },
  {
   "cell_type": "code",
   "execution_count": null,
   "metadata": {},
   "outputs": [],
   "source": []
  },
  {
   "cell_type": "markdown",
   "metadata": {},
   "source": [
    "Ans5."
   ]
  },
  {
   "cell_type": "code",
   "execution_count": 42,
   "metadata": {},
   "outputs": [
    {
     "name": "stdout",
     "output_type": "stream",
     "text": [
      "The number 87 is Positive\n"
     ]
    }
   ],
   "source": [
    "num1 = int(input(\"Enter the number: \"))\n",
    "if num1<0:\n",
    "    print(f\"The number {num1} is Negative\")\n",
    "elif num1>0:\n",
    "    print(f\"The number {num1} is Positive\")\n",
    "else:\n",
    "    print(f\"The number {num1} is Zero\")"
   ]
  },
  {
   "cell_type": "code",
   "execution_count": null,
   "metadata": {},
   "outputs": [],
   "source": []
  },
  {
   "cell_type": "markdown",
   "metadata": {},
   "source": [
    "Ans6."
   ]
  },
  {
   "cell_type": "code",
   "execution_count": 41,
   "metadata": {},
   "outputs": [
    {
     "name": "stdout",
     "output_type": "stream",
     "text": [
      "The number 98.0 is Even\n"
     ]
    }
   ],
   "source": [
    "num2 = float(input(\"Enter the number:\"))\n",
    "if num2%2==0:\n",
    "    print(f\"The number {num2} is Even\")\n",
    "else:\n",
    "    print(f\"The number {num2} is Odd\")"
   ]
  },
  {
   "cell_type": "code",
   "execution_count": null,
   "metadata": {},
   "outputs": [],
   "source": []
  },
  {
   "cell_type": "markdown",
   "metadata": {},
   "source": [
    "Ans7."
   ]
  },
  {
   "cell_type": "code",
   "execution_count": 44,
   "metadata": {},
   "outputs": [
    {
     "data": {
      "text/plain": [
       "25"
      ]
     },
     "execution_count": 44,
     "metadata": {},
     "output_type": "execute_result"
    }
   ],
   "source": [
    "digit1 = input(\"Enter the digit\")\n",
    "lst = []\n",
    "for i in digit1:\n",
    "    lst.append(int(i))\n",
    "sum(lst)\n",
    "\n"
   ]
  },
  {
   "cell_type": "code",
   "execution_count": null,
   "metadata": {},
   "outputs": [],
   "source": []
  },
  {
   "cell_type": "markdown",
   "metadata": {},
   "source": [
    "Ans8."
   ]
  },
  {
   "cell_type": "code",
   "execution_count": 46,
   "metadata": {},
   "outputs": [
    {
     "data": {
      "text/plain": [
       "6345"
      ]
     },
     "execution_count": 46,
     "metadata": {},
     "output_type": "execute_result"
    }
   ],
   "source": [
    "digit2 = input(\"Enter the number:\")\n",
    "num = ''\n",
    "for i in digit2:\n",
    "    num = i + num\n",
    "int(num)\n"
   ]
  },
  {
   "cell_type": "markdown",
   "metadata": {},
   "source": [
    "Ans9."
   ]
  },
  {
   "cell_type": "code",
   "execution_count": 47,
   "metadata": {},
   "outputs": [
    {
     "name": "stdout",
     "output_type": "stream",
     "text": [
      "371 is an Armstrong number\n"
     ]
    }
   ],
   "source": [
    "\n",
    "n = int(input(\"Enter a number: \"))\n",
    "\n",
    "s = 0\n",
    "\n",
    "t = n\n",
    "\n",
    "while t > 0:\n",
    "\n",
    "   digit = t % 10\n",
    "\n",
    "   s += digit ** 3\n",
    "\n",
    "   t //= 10\n",
    "\n",
    "if n == s:\n",
    "\n",
    "   print(n,\"is an Armstrong number\")\n",
    "\n",
    "else:\n",
    "\n",
    "   print(n,\"is not an Armstrong number\")\n"
   ]
  },
  {
   "cell_type": "markdown",
   "metadata": {},
   "source": [
    "Ans10."
   ]
  },
  {
   "cell_type": "code",
   "execution_count": 48,
   "metadata": {},
   "outputs": [
    {
     "name": "stdout",
     "output_type": "stream",
     "text": [
      "The year is a leap year!\n"
     ]
    }
   ],
   "source": [
    "year=int(input(\"Enter year to be checked:\"))\n",
    "if(year%4==0 and year%100!=0 or year%400==0):\n",
    "    print(\"The year is a leap year!\")\n",
    "else:\n",
    "    print(\"The year isn't a leap year!\")"
   ]
  },
  {
   "cell_type": "code",
   "execution_count": null,
   "metadata": {},
   "outputs": [],
   "source": []
  }
 ],
 "metadata": {
  "kernelspec": {
   "display_name": "pandas",
   "language": "python",
   "name": "python3"
  },
  "language_info": {
   "codemirror_mode": {
    "name": "ipython",
    "version": 3
   },
   "file_extension": ".py",
   "mimetype": "text/x-python",
   "name": "python",
   "nbconvert_exporter": "python",
   "pygments_lexer": "ipython3",
   "version": "3.12.0"
  }
 },
 "nbformat": 4,
 "nbformat_minor": 2
}
